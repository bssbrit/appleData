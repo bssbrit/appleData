{
 "cells": [
  {
   "cell_type": "code",
   "execution_count": null,
   "id": "ca5c5b6c-f627-4b01-8a82-334fbd88ae2a",
   "metadata": {},
   "outputs": [],
   "source": [
    "import warnings\n",
    "import pandas as pd\n",
    "appleData = pd.read_csv('apple_quality.csv')\n",
    "warnings.simplefilter(action='ignore', category=FutureWarning)"
   ]
  },
  {
   "cell_type": "code",
   "execution_count": null,
   "id": "96312d80-ea3a-4c80-ac81-3d60ef8efc40",
   "metadata": {},
   "outputs": [],
   "source": [
    "appleData.isnull().sum()"
   ]
  },
  {
   "cell_type": "code",
   "execution_count": null,
   "id": "054ebea2-2bc7-4b15-a257-7d18da4fbe7b",
   "metadata": {},
   "outputs": [],
   "source": [
    "appleData = appleData.dropna()"
   ]
  },
  {
   "cell_type": "code",
   "execution_count": null,
   "id": "795109d0-4e9e-48fd-8ae8-1b670199047b",
   "metadata": {},
   "outputs": [],
   "source": [
    "appleData.info()"
   ]
  },
  {
   "cell_type": "code",
   "execution_count": null,
   "id": "e34bf492-2e93-4f74-94ce-3405f601aea4",
   "metadata": {},
   "outputs": [],
   "source": [
    "appleData.drop('A_id',axis=1, inplace=True)\n",
    "appleData.head()"
   ]
  },
  {
   "cell_type": "code",
   "execution_count": null,
   "id": "04a6138c-315a-4054-85ea-e4a4b433272e",
   "metadata": {},
   "outputs": [],
   "source": [
    "appleData['Acidity'] = appleData['Acidity'].astype(float)"
   ]
  },
  {
   "cell_type": "code",
   "execution_count": null,
   "id": "6edba698-8b5b-48b2-9949-e15ed90c3e08",
   "metadata": {},
   "outputs": [],
   "source": [
    "\n",
    "for x in appleData.columns:\n",
    "    if x != 'Quality' and x != 'A_id': \n",
    "       appleData[x] = appleData[x].abs()\n",
    "       "
   ]
  },
  {
   "cell_type": "code",
   "execution_count": null,
   "id": "596c4dae-6432-4f8f-a827-4fb759d7ad00",
   "metadata": {},
   "outputs": [],
   "source": [
    "appleData.head()"
   ]
  },
  {
   "cell_type": "code",
   "execution_count": null,
   "id": "f31eef5d-e57a-4461-9c09-29dcd12f9550",
   "metadata": {},
   "outputs": [],
   "source": [
    "appleData[appleData['Size'] < 0].value_counts().sum()"
   ]
  },
  {
   "cell_type": "code",
   "execution_count": null,
   "id": "f0b9e235-6602-4d10-9699-53f812880d22",
   "metadata": {},
   "outputs": [],
   "source": [
    "import seaborn as sns"
   ]
  },
  {
   "cell_type": "code",
   "execution_count": null,
   "id": "0ef6e7b5-e9e1-47a8-88b0-bc01b2f9398d",
   "metadata": {},
   "outputs": [],
   "source": [
    "#sns.histplot(x=appleData['Sweetness'], y=appleData['Size'])\n",
    "\n",
    "sns.histplot(data=appleData,x=appleData['Sweetness'])"
   ]
  },
  {
   "cell_type": "code",
   "execution_count": null,
   "id": "c4dc46b7-502b-4126-8907-996e54a56ad6",
   "metadata": {},
   "outputs": [],
   "source": [
    "sns.histplot(data=appleData,x=appleData['Size'])"
   ]
  },
  {
   "cell_type": "code",
   "execution_count": null,
   "id": "412c3735-973a-42a7-8913-73563d86ebf6",
   "metadata": {},
   "outputs": [],
   "source": [
    "appleData[appleData['Size'] > 6].count()"
   ]
  },
  {
   "cell_type": "code",
   "execution_count": null,
   "id": "c0fad62f-3610-44b9-b6f8-923216d1e8ac",
   "metadata": {},
   "outputs": [],
   "source": [
    "sns.jointplot(x='Sweetness', y='Size', data=appleData,hue='Quality')\n",
    "\n"
   ]
  },
  {
   "cell_type": "code",
   "execution_count": null,
   "id": "c41bcbbe-bcbc-4578-81ef-30f2b7df4dfc",
   "metadata": {},
   "outputs": [],
   "source": [
    "appleData['Quality'].value_counts()"
   ]
  },
  {
   "cell_type": "markdown",
   "id": "7ab6c315-3e83-460f-a829-6e0fd8f4574d",
   "metadata": {},
   "source": [
    "Is seem that there's no major difference in sweetness or size regardless of the quality. So we could seel chitty apples and just say they are good cause they be sweet and big. MAKING FUCKING MONEY"
   ]
  },
  {
   "cell_type": "code",
   "execution_count": null,
   "id": "cd3f13a7-d57a-4e70-a97e-0351bd72ffdf",
   "metadata": {},
   "outputs": [],
   "source": [
    "sns.pairplot(appleData, hue='Quality')"
   ]
  },
  {
   "cell_type": "code",
   "execution_count": null,
   "id": "e0531352-5733-4ba5-aec0-8c7f413e9139",
   "metadata": {},
   "outputs": [],
   "source": []
  }
 ],
 "metadata": {
  "kernelspec": {
   "display_name": "Python 3 (ipykernel)",
   "language": "python",
   "name": "python3"
  },
  "language_info": {
   "codemirror_mode": {
    "name": "ipython",
    "version": 3
   },
   "file_extension": ".py",
   "mimetype": "text/x-python",
   "name": "python",
   "nbconvert_exporter": "python",
   "pygments_lexer": "ipython3",
   "version": "3.11.5"
  }
 },
 "nbformat": 4,
 "nbformat_minor": 5
}
